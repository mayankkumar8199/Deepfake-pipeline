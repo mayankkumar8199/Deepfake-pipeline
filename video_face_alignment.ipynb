{
 "cells": [
  {
   "cell_type": "code",
   "execution_count": 1,
   "id": "f95a48b4-45ca-4e0a-a616-d107126d9f6a",
   "metadata": {},
   "outputs": [],
   "source": [
    "# -*- coding: utf-8 -*-\n",
    "\"\"\"\n",
    "@author: abhilash\n",
    "\"\"\"\n",
    "\n",
    "#importing the required libraries\n",
    "import cv2\n",
    "import dlib\n",
    "\n",
    "#capture the video from default camera \n",
    "webcam_video_stream = cv2.VideoCapture('images/testing/test_video.mp4')\n",
    "\n",
    "\n",
    "#load the pretrained HOG SVN model\n",
    "face_detection_classifier = dlib.get_frontal_face_detector()\n",
    "\n"
   ]
  },
  {
   "cell_type": "code",
   "execution_count": 2,
   "id": "6b8843ec-e400-4096-a18b-1096dda24ceb",
   "metadata": {},
   "outputs": [
    {
     "name": "stdout",
     "output_type": "stream",
     "text": [
      "Requirement already satisfied: dlib in /home/mayank/miniconda3/envs/faceDetection/lib/python3.12/site-packages (19.24.4)\n"
     ]
    }
   ],
   "source": [
    "!pip install dlib\n"
   ]
  },
  {
   "cell_type": "code",
   "execution_count": 3,
   "id": "64353839-40f6-4109-8e2d-a1cc0f2b5b2e",
   "metadata": {},
   "outputs": [],
   "source": [
    "face_shape_predictor = dlib.shape_predictor('models/shape_predictor_5_face_landmarks.dat')"
   ]
  },
  {
   "cell_type": "code",
   "execution_count": 4,
   "id": "c3870cea-b9f2-4f50-b288-e544d192fc08",
   "metadata": {},
   "outputs": [
    {
     "name": "stderr",
     "output_type": "stream",
     "text": [
      "Warning: Ignoring XDG_SESSION_TYPE=wayland on Gnome. Use QT_QPA_PLATFORM=wayland to run on Wayland anyway.\n"
     ]
    },
    {
     "ename": "RuntimeError",
     "evalue": "No face were specified in the faces array.",
     "output_type": "error",
     "traceback": [
      "\u001b[0;31m---------------------------------------------------------------------------\u001b[0m",
      "\u001b[0;31mRuntimeError\u001b[0m                              Traceback (most recent call last)",
      "Cell \u001b[0;32mIn[4], line 19\u001b[0m\n\u001b[1;32m     16\u001b[0m     face_landmarks\u001b[38;5;241m.\u001b[39mappend(face_shape_predictor(current_frame, current_face_location))\n\u001b[1;32m     18\u001b[0m \u001b[38;5;66;03m# optional arguments eg: dlib.get_face_chips(image_to_detect, face_landmarks, size=160, padding=0.25)\u001b[39;00m\n\u001b[0;32m---> 19\u001b[0m all_face_chips \u001b[38;5;241m=\u001b[39m \u001b[43mdlib\u001b[49m\u001b[38;5;241;43m.\u001b[39;49m\u001b[43mget_face_chips\u001b[49m\u001b[43m(\u001b[49m\u001b[43mcurrent_frame\u001b[49m\u001b[43m,\u001b[49m\u001b[43mface_landmarks\u001b[49m\u001b[43m)\u001b[49m \n\u001b[1;32m     21\u001b[0m \u001b[38;5;66;03m#loop through the face chips and show them\u001b[39;00m\n\u001b[1;32m     22\u001b[0m \u001b[38;5;28;01mfor\u001b[39;00m index,current_face_chip \u001b[38;5;129;01min\u001b[39;00m \u001b[38;5;28menumerate\u001b[39m(all_face_chips):\n\u001b[1;32m     23\u001b[0m     \u001b[38;5;66;03m#show the face chip\u001b[39;00m\n",
      "\u001b[0;31mRuntimeError\u001b[0m: No face were specified in the faces array."
     ]
    }
   ],
   "source": [
    "#initialize the array variable to hold all face locations in the frame\n",
    "all_face_locations = []\n",
    "\n",
    "#loop through every frame in the video\n",
    "while True:\n",
    "    # object to hold the 5 face landmark points for every face\n",
    "    face_landmarks = dlib.full_object_detections()\n",
    "    #get the current frame from the video stream as an image\n",
    "    ret,current_frame = webcam_video_stream.read()\n",
    "\n",
    "    #detect all face locations using the HOG SVN classifier\n",
    "    all_face_locations = face_detection_classifier(current_frame,1)    \n",
    "    #looping through the face locations\n",
    "    for index,current_face_location in enumerate(all_face_locations):\n",
    "        #looping through all face detections and append shape predictions\n",
    "        face_landmarks.append(face_shape_predictor(current_frame, current_face_location))\n",
    "    \n",
    "    # optional arguments eg: dlib.get_face_chips(image_to_detect, face_landmarks, size=160, padding=0.25)\n",
    "    all_face_chips = dlib.get_face_chips(current_frame,face_landmarks) \n",
    "    \n",
    "    #loop through the face chips and show them\n",
    "    for index,current_face_chip in enumerate(all_face_chips):\n",
    "        #show the face chip\n",
    "        cv2.imshow(\"Face no \"+str(index+1),current_face_chip)\n",
    "    \n",
    "    #showing the current face with rectangle drawn\n",
    "    cv2.imshow(\"Webcam Video\",current_frame)\n",
    "    \n",
    "    if cv2.waitKey(1) & 0xFF == ord('q'):\n",
    "        break\n",
    "\n",
    "#release the stream and cam\n",
    "#close all opencv windows open\n",
    "webcam_video_stream.release()\n",
    "cv2.destroyAllWindows()        \n",
    "\n"
   ]
  },
  {
   "cell_type": "code",
   "execution_count": null,
   "id": "43c31cc0-95dc-4143-9aa6-3366d495c952",
   "metadata": {},
   "outputs": [],
   "source": []
  }
 ],
 "metadata": {
  "kernelspec": {
   "display_name": "Python 3 (ipykernel)",
   "language": "python",
   "name": "python3"
  },
  "language_info": {
   "codemirror_mode": {
    "name": "ipython",
    "version": 3
   },
   "file_extension": ".py",
   "mimetype": "text/x-python",
   "name": "python",
   "nbconvert_exporter": "python",
   "pygments_lexer": "ipython3",
   "version": "3.12.3"
  }
 },
 "nbformat": 4,
 "nbformat_minor": 5
}
