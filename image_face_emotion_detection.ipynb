{
 "cells": [
  {
   "cell_type": "code",
   "execution_count": 1,
   "id": "0b497af0-eb1f-4162-8be6-b624d8f642c7",
   "metadata": {},
   "outputs": [
    {
     "name": "stderr",
     "output_type": "stream",
     "text": [
      "2024-06-03 17:22:45.386411: I tensorflow/core/util/port.cc:113] oneDNN custom operations are on. You may see slightly different numerical results due to floating-point round-off errors from different computation orders. To turn them off, set the environment variable `TF_ENABLE_ONEDNN_OPTS=0`.\n",
      "2024-06-03 17:22:45.433838: I tensorflow/core/platform/cpu_feature_guard.cc:210] This TensorFlow binary is optimized to use available CPU instructions in performance-critical operations.\n",
      "To enable the following instructions: AVX2 AVX512F AVX512_VNNI AVX512_BF16 AVX512_FP16 AVX_VNNI AMX_TILE AMX_INT8 AMX_BF16 FMA, in other operations, rebuild TensorFlow with the appropriate compiler flags.\n",
      "2024-06-03 17:22:46.243759: W tensorflow/compiler/tf2tensorrt/utils/py_utils.cc:38] TF-TRT Warning: Could not find TensorRT\n"
     ]
    },
    {
     "name": "stdout",
     "output_type": "stream",
     "text": [
      "2.16.1\n"
     ]
    },
    {
     "ename": "TypeError",
     "evalue": "Could not locate class 'Sequential'. Make sure custom classes are decorated with `@keras.saving.register_keras_serializable()`. Full object config: {'class_name': 'Sequential', 'backend': 'tensorflow', 'config': [{'class_name': 'Conv2D', 'config': {'dtype': 'float32', 'padding': 'valid', 'filters': 64, 'trainable': True, 'activation': 'relu', 'bias_constraint': None, 'strides': [1, 1], 'name': 'conv2d_1', 'dilation_rate': [1, 1], 'kernel_initializer': {'class_name': 'VarianceScaling', 'config': {'distribution': 'uniform', 'mode': 'fan_avg', 'scale': 1.0, 'seed': None}}, 'bias_regularizer': None, 'kernel_constraint': None, 'kernel_regularizer': None, 'data_format': 'channels_last', 'use_bias': True, 'batch_input_shape': [None, 48, 48, 1], 'activity_regularizer': None, 'kernel_size': [5, 5], 'bias_initializer': {'class_name': 'Zeros', 'config': {}}}}, {'class_name': 'MaxPooling2D', 'config': {'name': 'max_pooling2d_1', 'padding': 'valid', 'pool_size': [5, 5], 'data_format': 'channels_last', 'trainable': True, 'strides': [2, 2]}}, {'class_name': 'Conv2D', 'config': {'padding': 'valid', 'filters': 64, 'trainable': True, 'activation': 'relu', 'bias_constraint': None, 'strides': [1, 1], 'name': 'conv2d_2', 'dilation_rate': [1, 1], 'kernel_initializer': {'class_name': 'VarianceScaling', 'config': {'distribution': 'uniform', 'mode': 'fan_avg', 'scale': 1.0, 'seed': None}}, 'bias_regularizer': None, 'kernel_constraint': None, 'kernel_regularizer': None, 'data_format': 'channels_last', 'use_bias': True, 'activity_regularizer': None, 'kernel_size': [3, 3], 'bias_initializer': {'class_name': 'Zeros', 'config': {}}}}, {'class_name': 'Conv2D', 'config': {'padding': 'valid', 'filters': 64, 'trainable': True, 'activation': 'relu', 'bias_constraint': None, 'strides': [1, 1], 'name': 'conv2d_3', 'dilation_rate': [1, 1], 'kernel_initializer': {'class_name': 'VarianceScaling', 'config': {'distribution': 'uniform', 'mode': 'fan_avg', 'scale': 1.0, 'seed': None}}, 'bias_regularizer': None, 'kernel_constraint': None, 'kernel_regularizer': None, 'data_format': 'channels_last', 'use_bias': True, 'activity_regularizer': None, 'kernel_size': [3, 3], 'bias_initializer': {'class_name': 'Zeros', 'config': {}}}}, {'class_name': 'AveragePooling2D', 'config': {'name': 'average_pooling2d_1', 'padding': 'valid', 'pool_size': [3, 3], 'data_format': 'channels_last', 'trainable': True, 'strides': [2, 2]}}, {'class_name': 'Conv2D', 'config': {'padding': 'valid', 'filters': 128, 'trainable': True, 'activation': 'relu', 'bias_constraint': None, 'strides': [1, 1], 'name': 'conv2d_4', 'dilation_rate': [1, 1], 'kernel_initializer': {'class_name': 'VarianceScaling', 'config': {'distribution': 'uniform', 'mode': 'fan_avg', 'scale': 1.0, 'seed': None}}, 'bias_regularizer': None, 'kernel_constraint': None, 'kernel_regularizer': None, 'data_format': 'channels_last', 'use_bias': True, 'activity_regularizer': None, 'kernel_size': [3, 3], 'bias_initializer': {'class_name': 'Zeros', 'config': {}}}}, {'class_name': 'Conv2D', 'config': {'padding': 'valid', 'filters': 128, 'trainable': True, 'activation': 'relu', 'bias_constraint': None, 'strides': [1, 1], 'name': 'conv2d_5', 'dilation_rate': [1, 1], 'kernel_initializer': {'class_name': 'VarianceScaling', 'config': {'distribution': 'uniform', 'mode': 'fan_avg', 'scale': 1.0, 'seed': None}}, 'bias_regularizer': None, 'kernel_constraint': None, 'kernel_regularizer': None, 'data_format': 'channels_last', 'use_bias': True, 'activity_regularizer': None, 'kernel_size': [3, 3], 'bias_initializer': {'class_name': 'Zeros', 'config': {}}}}, {'class_name': 'AveragePooling2D', 'config': {'name': 'average_pooling2d_2', 'padding': 'valid', 'pool_size': [3, 3], 'data_format': 'channels_last', 'trainable': True, 'strides': [2, 2]}}, {'class_name': 'Flatten', 'config': {'name': 'flatten_1', 'trainable': True}}, {'class_name': 'Dense', 'config': {'use_bias': True, 'trainable': True, 'activation': 'relu', 'activity_regularizer': None, 'name': 'dense_1', 'kernel_initializer': {'class_name': 'VarianceScaling', 'config': {'distribution': 'uniform', 'mode': 'fan_avg', 'scale': 1.0, 'seed': None}}, 'bias_regularizer': None, 'kernel_regularizer': None, 'units': 1024, 'bias_constraint': None, 'kernel_constraint': None, 'bias_initializer': {'class_name': 'Zeros', 'config': {}}}}, {'class_name': 'Dropout', 'config': {'name': 'dropout_1', 'trainable': True, 'rate': 0.2}}, {'class_name': 'Dense', 'config': {'use_bias': True, 'trainable': True, 'activation': 'relu', 'activity_regularizer': None, 'name': 'dense_2', 'kernel_initializer': {'class_name': 'VarianceScaling', 'config': {'distribution': 'uniform', 'mode': 'fan_avg', 'scale': 1.0, 'seed': None}}, 'bias_regularizer': None, 'kernel_regularizer': None, 'units': 1024, 'bias_constraint': None, 'kernel_constraint': None, 'bias_initializer': {'class_name': 'Zeros', 'config': {}}}}, {'class_name': 'Dropout', 'config': {'name': 'dropout_2', 'trainable': True, 'rate': 0.2}}, {'class_name': 'Dense', 'config': {'use_bias': True, 'trainable': True, 'activation': 'softmax', 'activity_regularizer': None, 'name': 'dense_3', 'kernel_initializer': {'class_name': 'VarianceScaling', 'config': {'distribution': 'uniform', 'mode': 'fan_avg', 'scale': 1.0, 'seed': None}}, 'bias_regularizer': None, 'kernel_regularizer': None, 'units': 7, 'bias_constraint': None, 'kernel_constraint': None, 'bias_initializer': {'class_name': 'Zeros', 'config': {}}}}], 'keras_version': '2.0.8'}",
     "output_type": "error",
     "traceback": [
      "\u001b[0;31m---------------------------------------------------------------------------\u001b[0m",
      "\u001b[0;31mTypeError\u001b[0m                                 Traceback (most recent call last)",
      "Cell \u001b[0;32mIn[1], line 19\u001b[0m\n\u001b[1;32m     16\u001b[0m image_to_detect \u001b[38;5;241m=\u001b[39m cv2\u001b[38;5;241m.\u001b[39mimread(\u001b[38;5;124m'\u001b[39m\u001b[38;5;124mimages/testing/trump-modi.jpg\u001b[39m\u001b[38;5;124m'\u001b[39m)\n\u001b[1;32m     18\u001b[0m \u001b[38;5;66;03m#load the model and load the weights\u001b[39;00m\n\u001b[0;32m---> 19\u001b[0m face_exp_model \u001b[38;5;241m=\u001b[39m \u001b[43mmodel_from_json\u001b[49m\u001b[43m(\u001b[49m\u001b[38;5;28;43mopen\u001b[39;49m\u001b[43m(\u001b[49m\u001b[38;5;124;43m\"\u001b[39;49m\u001b[38;5;124;43mdataset/facial_expression_model_structure.json\u001b[39;49m\u001b[38;5;124;43m\"\u001b[39;49m\u001b[43m,\u001b[49m\u001b[38;5;124;43m\"\u001b[39;49m\u001b[38;5;124;43mr\u001b[39;49m\u001b[38;5;124;43m\"\u001b[39;49m\u001b[43m)\u001b[49m\u001b[38;5;241;43m.\u001b[39;49m\u001b[43mread\u001b[49m\u001b[43m(\u001b[49m\u001b[43m)\u001b[49m\u001b[43m)\u001b[49m\n\u001b[1;32m     20\u001b[0m face_exp_model\u001b[38;5;241m.\u001b[39mload_weights(\u001b[38;5;124m'\u001b[39m\u001b[38;5;124mdataset/facial_expression_model_weights.h5\u001b[39m\u001b[38;5;124m'\u001b[39m)\n\u001b[1;32m     21\u001b[0m \u001b[38;5;66;03m#declare the emotions label\u001b[39;00m\n",
      "File \u001b[0;32m~/miniconda3/envs/faceDetection/lib/python3.12/site-packages/keras/src/models/model.py:575\u001b[0m, in \u001b[0;36mmodel_from_json\u001b[0;34m(json_string, custom_objects)\u001b[0m\n\u001b[1;32m    572\u001b[0m \u001b[38;5;28;01mfrom\u001b[39;00m \u001b[38;5;21;01mkeras\u001b[39;00m\u001b[38;5;21;01m.\u001b[39;00m\u001b[38;5;21;01msrc\u001b[39;00m\u001b[38;5;21;01m.\u001b[39;00m\u001b[38;5;21;01msaving\u001b[39;00m \u001b[38;5;28;01mimport\u001b[39;00m serialization_lib\n\u001b[1;32m    574\u001b[0m model_config \u001b[38;5;241m=\u001b[39m json\u001b[38;5;241m.\u001b[39mloads(json_string)\n\u001b[0;32m--> 575\u001b[0m \u001b[38;5;28;01mreturn\u001b[39;00m \u001b[43mserialization_lib\u001b[49m\u001b[38;5;241;43m.\u001b[39;49m\u001b[43mdeserialize_keras_object\u001b[49m\u001b[43m(\u001b[49m\n\u001b[1;32m    576\u001b[0m \u001b[43m    \u001b[49m\u001b[43mmodel_config\u001b[49m\u001b[43m,\u001b[49m\u001b[43m \u001b[49m\u001b[43mcustom_objects\u001b[49m\u001b[38;5;241;43m=\u001b[39;49m\u001b[43mcustom_objects\u001b[49m\n\u001b[1;32m    577\u001b[0m \u001b[43m\u001b[49m\u001b[43m)\u001b[49m\n",
      "File \u001b[0;32m~/miniconda3/envs/faceDetection/lib/python3.12/site-packages/keras/src/saving/serialization_lib.py:694\u001b[0m, in \u001b[0;36mdeserialize_keras_object\u001b[0;34m(config, custom_objects, safe_mode, **kwargs)\u001b[0m\n\u001b[1;32m    691\u001b[0m     \u001b[38;5;28;01mif\u001b[39;00m obj \u001b[38;5;129;01mis\u001b[39;00m \u001b[38;5;129;01mnot\u001b[39;00m \u001b[38;5;28;01mNone\u001b[39;00m:\n\u001b[1;32m    692\u001b[0m         \u001b[38;5;28;01mreturn\u001b[39;00m obj\n\u001b[0;32m--> 694\u001b[0m \u001b[38;5;28mcls\u001b[39m \u001b[38;5;241m=\u001b[39m \u001b[43m_retrieve_class_or_fn\u001b[49m\u001b[43m(\u001b[49m\n\u001b[1;32m    695\u001b[0m \u001b[43m    \u001b[49m\u001b[43mclass_name\u001b[49m\u001b[43m,\u001b[49m\n\u001b[1;32m    696\u001b[0m \u001b[43m    \u001b[49m\u001b[43mregistered_name\u001b[49m\u001b[43m,\u001b[49m\n\u001b[1;32m    697\u001b[0m \u001b[43m    \u001b[49m\u001b[43mmodule\u001b[49m\u001b[43m,\u001b[49m\n\u001b[1;32m    698\u001b[0m \u001b[43m    \u001b[49m\u001b[43mobj_type\u001b[49m\u001b[38;5;241;43m=\u001b[39;49m\u001b[38;5;124;43m\"\u001b[39;49m\u001b[38;5;124;43mclass\u001b[39;49m\u001b[38;5;124;43m\"\u001b[39;49m\u001b[43m,\u001b[49m\n\u001b[1;32m    699\u001b[0m \u001b[43m    \u001b[49m\u001b[43mfull_config\u001b[49m\u001b[38;5;241;43m=\u001b[39;49m\u001b[43mconfig\u001b[49m\u001b[43m,\u001b[49m\n\u001b[1;32m    700\u001b[0m \u001b[43m    \u001b[49m\u001b[43mcustom_objects\u001b[49m\u001b[38;5;241;43m=\u001b[39;49m\u001b[43mcustom_objects\u001b[49m\u001b[43m,\u001b[49m\n\u001b[1;32m    701\u001b[0m \u001b[43m\u001b[49m\u001b[43m)\u001b[49m\n\u001b[1;32m    703\u001b[0m \u001b[38;5;28;01mif\u001b[39;00m \u001b[38;5;28misinstance\u001b[39m(\u001b[38;5;28mcls\u001b[39m, types\u001b[38;5;241m.\u001b[39mFunctionType):\n\u001b[1;32m    704\u001b[0m     \u001b[38;5;28;01mreturn\u001b[39;00m \u001b[38;5;28mcls\u001b[39m\n",
      "File \u001b[0;32m~/miniconda3/envs/faceDetection/lib/python3.12/site-packages/keras/src/saving/serialization_lib.py:812\u001b[0m, in \u001b[0;36m_retrieve_class_or_fn\u001b[0;34m(name, registered_name, module, obj_type, full_config, custom_objects)\u001b[0m\n\u001b[1;32m    809\u001b[0m     \u001b[38;5;28;01mif\u001b[39;00m obj \u001b[38;5;129;01mis\u001b[39;00m \u001b[38;5;129;01mnot\u001b[39;00m \u001b[38;5;28;01mNone\u001b[39;00m:\n\u001b[1;32m    810\u001b[0m         \u001b[38;5;28;01mreturn\u001b[39;00m obj\n\u001b[0;32m--> 812\u001b[0m \u001b[38;5;28;01mraise\u001b[39;00m \u001b[38;5;167;01mTypeError\u001b[39;00m(\n\u001b[1;32m    813\u001b[0m     \u001b[38;5;124mf\u001b[39m\u001b[38;5;124m\"\u001b[39m\u001b[38;5;124mCould not locate \u001b[39m\u001b[38;5;132;01m{\u001b[39;00mobj_type\u001b[38;5;132;01m}\u001b[39;00m\u001b[38;5;124m \u001b[39m\u001b[38;5;124m'\u001b[39m\u001b[38;5;132;01m{\u001b[39;00mname\u001b[38;5;132;01m}\u001b[39;00m\u001b[38;5;124m'\u001b[39m\u001b[38;5;124m. \u001b[39m\u001b[38;5;124m\"\u001b[39m\n\u001b[1;32m    814\u001b[0m     \u001b[38;5;124m\"\u001b[39m\u001b[38;5;124mMake sure custom classes are decorated with \u001b[39m\u001b[38;5;124m\"\u001b[39m\n\u001b[1;32m    815\u001b[0m     \u001b[38;5;124m\"\u001b[39m\u001b[38;5;124m`@keras.saving.register_keras_serializable()`. \u001b[39m\u001b[38;5;124m\"\u001b[39m\n\u001b[1;32m    816\u001b[0m     \u001b[38;5;124mf\u001b[39m\u001b[38;5;124m\"\u001b[39m\u001b[38;5;124mFull object config: \u001b[39m\u001b[38;5;132;01m{\u001b[39;00mfull_config\u001b[38;5;132;01m}\u001b[39;00m\u001b[38;5;124m\"\u001b[39m\n\u001b[1;32m    817\u001b[0m )\n",
      "\u001b[0;31mTypeError\u001b[0m: Could not locate class 'Sequential'. Make sure custom classes are decorated with `@keras.saving.register_keras_serializable()`. Full object config: {'class_name': 'Sequential', 'backend': 'tensorflow', 'config': [{'class_name': 'Conv2D', 'config': {'dtype': 'float32', 'padding': 'valid', 'filters': 64, 'trainable': True, 'activation': 'relu', 'bias_constraint': None, 'strides': [1, 1], 'name': 'conv2d_1', 'dilation_rate': [1, 1], 'kernel_initializer': {'class_name': 'VarianceScaling', 'config': {'distribution': 'uniform', 'mode': 'fan_avg', 'scale': 1.0, 'seed': None}}, 'bias_regularizer': None, 'kernel_constraint': None, 'kernel_regularizer': None, 'data_format': 'channels_last', 'use_bias': True, 'batch_input_shape': [None, 48, 48, 1], 'activity_regularizer': None, 'kernel_size': [5, 5], 'bias_initializer': {'class_name': 'Zeros', 'config': {}}}}, {'class_name': 'MaxPooling2D', 'config': {'name': 'max_pooling2d_1', 'padding': 'valid', 'pool_size': [5, 5], 'data_format': 'channels_last', 'trainable': True, 'strides': [2, 2]}}, {'class_name': 'Conv2D', 'config': {'padding': 'valid', 'filters': 64, 'trainable': True, 'activation': 'relu', 'bias_constraint': None, 'strides': [1, 1], 'name': 'conv2d_2', 'dilation_rate': [1, 1], 'kernel_initializer': {'class_name': 'VarianceScaling', 'config': {'distribution': 'uniform', 'mode': 'fan_avg', 'scale': 1.0, 'seed': None}}, 'bias_regularizer': None, 'kernel_constraint': None, 'kernel_regularizer': None, 'data_format': 'channels_last', 'use_bias': True, 'activity_regularizer': None, 'kernel_size': [3, 3], 'bias_initializer': {'class_name': 'Zeros', 'config': {}}}}, {'class_name': 'Conv2D', 'config': {'padding': 'valid', 'filters': 64, 'trainable': True, 'activation': 'relu', 'bias_constraint': None, 'strides': [1, 1], 'name': 'conv2d_3', 'dilation_rate': [1, 1], 'kernel_initializer': {'class_name': 'VarianceScaling', 'config': {'distribution': 'uniform', 'mode': 'fan_avg', 'scale': 1.0, 'seed': None}}, 'bias_regularizer': None, 'kernel_constraint': None, 'kernel_regularizer': None, 'data_format': 'channels_last', 'use_bias': True, 'activity_regularizer': None, 'kernel_size': [3, 3], 'bias_initializer': {'class_name': 'Zeros', 'config': {}}}}, {'class_name': 'AveragePooling2D', 'config': {'name': 'average_pooling2d_1', 'padding': 'valid', 'pool_size': [3, 3], 'data_format': 'channels_last', 'trainable': True, 'strides': [2, 2]}}, {'class_name': 'Conv2D', 'config': {'padding': 'valid', 'filters': 128, 'trainable': True, 'activation': 'relu', 'bias_constraint': None, 'strides': [1, 1], 'name': 'conv2d_4', 'dilation_rate': [1, 1], 'kernel_initializer': {'class_name': 'VarianceScaling', 'config': {'distribution': 'uniform', 'mode': 'fan_avg', 'scale': 1.0, 'seed': None}}, 'bias_regularizer': None, 'kernel_constraint': None, 'kernel_regularizer': None, 'data_format': 'channels_last', 'use_bias': True, 'activity_regularizer': None, 'kernel_size': [3, 3], 'bias_initializer': {'class_name': 'Zeros', 'config': {}}}}, {'class_name': 'Conv2D', 'config': {'padding': 'valid', 'filters': 128, 'trainable': True, 'activation': 'relu', 'bias_constraint': None, 'strides': [1, 1], 'name': 'conv2d_5', 'dilation_rate': [1, 1], 'kernel_initializer': {'class_name': 'VarianceScaling', 'config': {'distribution': 'uniform', 'mode': 'fan_avg', 'scale': 1.0, 'seed': None}}, 'bias_regularizer': None, 'kernel_constraint': None, 'kernel_regularizer': None, 'data_format': 'channels_last', 'use_bias': True, 'activity_regularizer': None, 'kernel_size': [3, 3], 'bias_initializer': {'class_name': 'Zeros', 'config': {}}}}, {'class_name': 'AveragePooling2D', 'config': {'name': 'average_pooling2d_2', 'padding': 'valid', 'pool_size': [3, 3], 'data_format': 'channels_last', 'trainable': True, 'strides': [2, 2]}}, {'class_name': 'Flatten', 'config': {'name': 'flatten_1', 'trainable': True}}, {'class_name': 'Dense', 'config': {'use_bias': True, 'trainable': True, 'activation': 'relu', 'activity_regularizer': None, 'name': 'dense_1', 'kernel_initializer': {'class_name': 'VarianceScaling', 'config': {'distribution': 'uniform', 'mode': 'fan_avg', 'scale': 1.0, 'seed': None}}, 'bias_regularizer': None, 'kernel_regularizer': None, 'units': 1024, 'bias_constraint': None, 'kernel_constraint': None, 'bias_initializer': {'class_name': 'Zeros', 'config': {}}}}, {'class_name': 'Dropout', 'config': {'name': 'dropout_1', 'trainable': True, 'rate': 0.2}}, {'class_name': 'Dense', 'config': {'use_bias': True, 'trainable': True, 'activation': 'relu', 'activity_regularizer': None, 'name': 'dense_2', 'kernel_initializer': {'class_name': 'VarianceScaling', 'config': {'distribution': 'uniform', 'mode': 'fan_avg', 'scale': 1.0, 'seed': None}}, 'bias_regularizer': None, 'kernel_regularizer': None, 'units': 1024, 'bias_constraint': None, 'kernel_constraint': None, 'bias_initializer': {'class_name': 'Zeros', 'config': {}}}}, {'class_name': 'Dropout', 'config': {'name': 'dropout_2', 'trainable': True, 'rate': 0.2}}, {'class_name': 'Dense', 'config': {'use_bias': True, 'trainable': True, 'activation': 'softmax', 'activity_regularizer': None, 'name': 'dense_3', 'kernel_initializer': {'class_name': 'VarianceScaling', 'config': {'distribution': 'uniform', 'mode': 'fan_avg', 'scale': 1.0, 'seed': None}}, 'bias_regularizer': None, 'kernel_regularizer': None, 'units': 7, 'bias_constraint': None, 'kernel_constraint': None, 'bias_initializer': {'class_name': 'Zeros', 'config': {}}}}], 'keras_version': '2.0.8'}"
     ]
    }
   ],
   "source": [
    "# -*- coding: utf-8 -*-\n",
    "\"\"\"\n",
    "\n",
    "@author: mayank\n",
    "\"\"\"\n",
    "#importing the required libraries\n",
    "import cv2\n",
    "import numpy as np\n",
    "from keras.preprocessing import image\n",
    "from keras.models import model_from_json\n",
    "import face_recognition\n",
    "import tensorflow\n",
    "\n",
    "print(tensorflow.__version__)\n",
    "#loading the image to detect\n",
    "image_to_detect = cv2.imread('images/testing/trump-modi.jpg')\n",
    "\n",
    "#load the model and load the weights\n",
    "face_exp_model = model_from_json(open(\"dataset/facial_expression_model_structure.json\",\"r\").read())\n",
    "face_exp_model.load_weights('dataset/facial_expression_model_weights.h5')\n",
    "#declare the emotions label\n",
    "emotions_label = ('angry', 'disgust', 'fear', 'happy', 'sad', 'surprise', 'neutral')\n",
    "\n",
    "#detect all faces in the image\n",
    "#arguments are image,no_of_times_to_upsample, model\n",
    "all_face_locations = face_recognition.face_locations(image_to_detect,model='hog')\n",
    "\n",
    "#print the number of faces detected\n",
    "print('There are {} no of faces in this image'.format(len(all_face_locations)))\n",
    "\n",
    "#looping through the face locations\n",
    "for index,current_face_location in enumerate(all_face_locations):\n",
    "    #splitting the tuple to get the four position values of current face\n",
    "    top_pos,right_pos,bottom_pos,left_pos = current_face_location\n",
    "    #printing the location of current face\n",
    "    print('Found face {} at top:{},right:{},bottom:{},left:{}'.format(index+1,top_pos,right_pos,bottom_pos,left_pos))\n",
    "    #slicing the current face from main image\n",
    "    current_face_image = image_to_detect[top_pos:bottom_pos,left_pos:right_pos]\n",
    "    #draw rectangle around the face detected\n",
    "    cv2.rectangle(image_to_detect,(left_pos,top_pos),(right_pos,bottom_pos),(0,0,255),2)\n",
    "    \n",
    "    #preprocess input, convert it to an image like as the data in dataset\n",
    "    #convert to grayscale\n",
    "    current_face_image = cv2.cvtColor(current_face_image, cv2.COLOR_BGR2GRAY) \n",
    "    #resize to 48x48 px size\n",
    "    current_face_image = cv2.resize(current_face_image, (48, 48))\n",
    "    #convert the PIL image into a 3d numpy array\n",
    "    img_pixels = image.img_to_array(current_face_image)\n",
    "    #expand the shape of an array into single row multiple columns\n",
    "    img_pixels = np.expand_dims(img_pixels, axis = 0)\n",
    "    #pixels are in range of [0, 255]. normalize all pixels in scale of [0, 1]\n",
    "    img_pixels /= 255 \n",
    "    \n",
    "    #do prodiction using model, get the prediction values for all 7 expressions\n",
    "    exp_predictions = face_exp_model.predict(img_pixels) \n",
    "    #find max indexed prediction value (0 till 7)\n",
    "    max_index = np.argmax(exp_predictions[0])\n",
    "    #get corresponding lable from emotions_label\n",
    "    emotion_label = emotions_label[max_index]\n",
    "    \n",
    "    #display the name as text in the image\n",
    "    font = cv2.FONT_HERSHEY_DUPLEX\n",
    "    cv2.putText(image_to_detect, emotion_label, (left_pos,bottom_pos), font, 0.5, (255,255,255),1)\n",
    "    \n",
    "#showing the current face with rectangle drawn\n",
    "cv2.imshow(\"Image Face Emotions\",image_to_detect)\n",
    "\n",
    "\n",
    "\n",
    "\n",
    "\n"
   ]
  },
  {
   "cell_type": "code",
   "execution_count": null,
   "id": "46f25976-4518-4fb3-94ba-840310517edf",
   "metadata": {},
   "outputs": [],
   "source": []
  }
 ],
 "metadata": {
  "kernelspec": {
   "display_name": "Python 3 (ipykernel)",
   "language": "python",
   "name": "python3"
  },
  "language_info": {
   "codemirror_mode": {
    "name": "ipython",
    "version": 3
   },
   "file_extension": ".py",
   "mimetype": "text/x-python",
   "name": "python",
   "nbconvert_exporter": "python",
   "pygments_lexer": "ipython3",
   "version": "3.12.3"
  }
 },
 "nbformat": 4,
 "nbformat_minor": 5
}
