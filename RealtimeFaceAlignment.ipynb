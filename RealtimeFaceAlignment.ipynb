{
 "cells": [
  {
   "cell_type": "code",
   "execution_count": 2,
   "id": "9c0ef59b-7d2e-45a2-bb8a-5df766cbb699",
   "metadata": {},
   "outputs": [
    {
     "name": "stderr",
     "output_type": "stream",
     "text": [
      "[ WARN:0@35.399] global cap_v4l.cpp:997 open VIDEOIO(V4L2:/dev/video0): can't open camera by index\n",
      "[ERROR:0@35.399] global obsensor_uvc_stream_channel.cpp:159 getStreamChannelGroup Camera index out of range\n"
     ]
    }
   ],
   "source": [
    "# -*- coding: utf-8 -*-\n",
    "\"\"\"\n",
    "@author: Mayank\n",
    "\"\"\"\n",
    "\n",
    "#importing the required libraries\n",
    "import cv2\n",
    "import dlib\n",
    "\n",
    "#capture the video from default camera \n",
    "webcam_video_stream = cv2.VideoCapture(0)\n",
    "\n",
    "#load the pretrained HOG SVN model\n",
    "face_detection_classifier = dlib.get_frontal_face_detector()\n",
    "\n",
    "# download the trained facial shape predictor from\n",
    "# http://dlib.net/files/shape_predictor_5_face_landmarks.dat.bz2\n",
    "# load shape predictor to predict face landmark points of individual facial structures\n",
    "face_shape_predictor = dlib.shape_predictor('models/shape_predictor_5_face_landmarks.dat')\n",
    "\n",
    "#initialize the array variable to hold all face locations in the frame\n",
    "all_face_locations = []\n"
   ]
  },
  {
   "cell_type": "code",
   "execution_count": null,
   "id": "0e06b2aa-02d0-44e8-b5b9-5da7e42c3ebe",
   "metadata": {},
   "outputs": [],
   "source": []
  }
 ],
 "metadata": {
  "kernelspec": {
   "display_name": "Python 3 (ipykernel)",
   "language": "python",
   "name": "python3"
  },
  "language_info": {
   "codemirror_mode": {
    "name": "ipython",
    "version": 3
   },
   "file_extension": ".py",
   "mimetype": "text/x-python",
   "name": "python",
   "nbconvert_exporter": "python",
   "pygments_lexer": "ipython3",
   "version": "3.12.3"
  }
 },
 "nbformat": 4,
 "nbformat_minor": 5
}
